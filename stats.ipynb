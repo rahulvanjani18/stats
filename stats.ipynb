{
  "nbformat": 4,
  "nbformat_minor": 0,
  "metadata": {
    "colab": {
      "provenance": []
    },
    "kernelspec": {
      "name": "python3",
      "display_name": "Python 3"
    },
    "language_info": {
      "name": "python"
    }
  },
  "cells": [
    {
      "cell_type": "markdown",
      "source": [
        "THOERY ANSWERS\n",
        "___\n",
        "\n",
        "1: What is the difference between descriptive statistics and inferential\n",
        "statistics? Explain with examples.\n",
        "\n",
        ".>Descriptive statistics summarize and describe the main features of a dataset. They do not make predictions or generalizations beyond the data.\n",
        "\n",
        "Examples:\n",
        "\n",
        "Mean, median, mode of a dataset\n",
        "\n",
        "Standard deviation, variance\n",
        "\n",
        "Frequency distributions\n",
        "\n",
        "Graphs like histograms or box plots\n",
        "\n",
        " Example:\n",
        "A data analyst calculates the average score of 100 students in a class.\n",
        "→ This describes that specific group only.\n",
        "\n",
        " Inferential Statistics\n",
        "Inferential statistics use a sample of data to make predictions or generalizations about a larger population. It often involves probability and hypothesis testing.\n",
        "\n",
        "Examples:\n",
        "\n",
        "Estimating population mean from a sample\n",
        "\n",
        "Hypothesis tests (t-test, chi-square test, ANOVA)\n",
        "\n",
        "Confidence intervals\n",
        "\n",
        "Regression analysis\n",
        "\n",
        "✅ Example:\n",
        "From a survey of 200 voters, a researcher estimates that 60% of all voters support a candidate.\n",
        "→ This is drawing a conclusion about a population from a sample.\n",
        "\n",
        "---\n",
        "\n",
        "2. What is sampling in statistics? Explain the differences between random\n",
        "and stratified sampling\n",
        "\n",
        ">Sampling is the process of selecting a subset (sample) from a larger population to analyze and draw conclusions.\n",
        "\n",
        "Random Sampling: No grouping, purely random.\n",
        "\n",
        "Stratified Sampling: Group-based, ensures representation from each group.\n",
        "\n",
        "---\n",
        "\n",
        "3.Define mean, median, and mode. Explain why these measures of central\n",
        "tendency are important.\n",
        "\n",
        "Mean\n",
        "The average of all values.\n",
        "\n",
        "Mean = sum of all values/ no. of values\n",
        "\n",
        " Median\n",
        "The middle value when the data is sorted.\n",
        "\n",
        "If even number of values: average of two middle ones.\n",
        "\n",
        " Mode\n",
        "The most frequent value in the dataset.\n",
        "\n",
        "Importance of Measures of Central Tendency\n",
        "They summarize data with a single representative value.\n",
        "\n",
        "Help to understand the distribution and compare datasets.\n",
        "\n",
        "Useful in decision-making, trend analysis, and reporting.\n",
        "\n",
        "---\n",
        "\n",
        "4. Explain skewness and kurtosis. What does a positive skew imply about the\n",
        "data?\n",
        "\n",
        "Skewness\n",
        "Skewness measures the asymmetry of a distribution.\n",
        "\n",
        "Positive Skew (Right Skew):\n",
        "Tail on the right side is longer.\n",
        "→ Mean > Median\n",
        "→ Most data values are concentrated on the left.\n",
        "\n",
        "Negative Skew (Left Skew):\n",
        "Tail on the left side is longer.\n",
        "→ Mean < Median\n",
        "→ Most data values are concentrated on the right.\n",
        "\n",
        " Kurtosis\n",
        "Kurtosis measures the \"tailedness\" or peak of the distribution.\n",
        "\n",
        "High Kurtosis (Leptokurtic): Sharp peak, heavy tails\n",
        "\n",
        "Low Kurtosis (Platykurtic): Flat peak, light tails\n",
        "\n",
        "Normal Kurtosis (Mesokurtic): Like normal distribution\n",
        "\n",
        " What does a positive skew imply?\n",
        "The data has a long tail on the right.\n",
        "\n",
        "There are more low values and a few very high values.\n",
        "\n",
        "Mean is pulled to the right (greater than median).\n",
        "\n",
        "---\n",
        "\n",
        "\n"
      ],
      "metadata": {
        "id": "dmQzGOstivy5"
      }
    },
    {
      "cell_type": "code",
      "execution_count": 2,
      "metadata": {
        "colab": {
          "base_uri": "https://localhost:8080/"
        },
        "id": "vrsM9LlHim3o",
        "outputId": "692e7511-517a-4f1e-857c-93c465b48690"
      },
      "outputs": [
        {
          "output_type": "stream",
          "name": "stdout",
          "text": [
            "Mean: 19.6\n",
            "Median: 19\n",
            "Mode: 12\n"
          ]
        }
      ],
      "source": [
        "#practical\n",
        "'''\n",
        "5. : Implement a Python program to compute the mean, median, and mode of\n",
        "a given list of numbers.\n",
        "numbers = [12, 15, 12, 18, 19, 12, 20, 22, 19, 19, 24, 24, 24, 26, 28]\n",
        "'''\n",
        "\n",
        "import statistics\n",
        "\n",
        "numbers = [12, 15, 12, 18, 19, 12, 20, 22, 19, 19, 24, 24, 24, 26, 28]\n",
        "\n",
        "\n",
        "mean = statistics.mean(numbers)\n",
        "median = statistics.median(numbers)\n",
        "mode = statistics.mode(numbers)\n",
        "\n",
        "print(\"Mean:\", mean)\n",
        "print(\"Median:\", median)\n",
        "print(\"Mode:\", mode)"
      ]
    },
    {
      "cell_type": "code",
      "source": [
        "'''\n",
        "6. : Compute the covariance and correlation coefficient between the following\n",
        "two datasets provided as lists in Python:\n",
        "list_x = [10, 20, 30, 40, 50]\n",
        "list_y = [15, 25, 35, 45, 60]\n",
        "'''\n",
        "\n",
        "import numpy as np\n",
        "\n",
        "\n",
        "list_x = [10, 20, 30, 40, 50]\n",
        "list_y = [15, 25, 35, 45, 60]\n",
        "\n",
        "\n",
        "x = np.array(list_x)\n",
        "y = np.array(list_y)\n",
        "\n",
        "\n",
        "cov_matrix = np.cov(x, y, ddof=0)  # population covariance\n",
        "covariance = cov_matrix[0, 1]\n",
        "\n",
        "\n",
        "correlation = np.corrcoef(x, y)[0, 1]\n",
        "\n",
        "\n",
        "print(\"Covariance:\", covariance)\n",
        "print(\"Correlation Coefficient:\", correlation)\n"
      ],
      "metadata": {
        "colab": {
          "base_uri": "https://localhost:8080/"
        },
        "id": "_inApN1pa6JC",
        "outputId": "8dc11476-304b-4413-8401-eb3e325b3324"
      },
      "execution_count": 3,
      "outputs": [
        {
          "output_type": "stream",
          "name": "stdout",
          "text": [
            "Covariance: 220.0\n",
            "Correlation Coefficient: 0.995893206467704\n"
          ]
        }
      ]
    },
    {
      "cell_type": "code",
      "source": [
        "'''\n",
        "7. Write a Python script to draw a boxplot for the following numeric list and\n",
        "identify its outliers. Explain the result:\n",
        "data = [12, 14, 14, 15, 18, 19, 19, 21, 22, 22, 23, 23, 24, 26, 29, 35]\n",
        "\n",
        "'''\n",
        "\n",
        "import matplotlib.pyplot as plt\n",
        "import numpy as np\n",
        "\n",
        "\n",
        "data = [12, 14, 14, 15, 18, 19, 19, 21, 22, 22, 23, 23, 24, 26, 29, 35]\n",
        "\n",
        "\n",
        "plt.boxplot(data)\n",
        "plt.title(\"Boxplot of Data\")\n",
        "plt.ylabel(\"Values\")\n",
        "plt.grid(True)\n",
        "plt.show()\n",
        "\n",
        "Q1 = np.percentile(data, 25)\n",
        "Q3 = np.percentile(data, 75)\n",
        "IQR = Q3 - Q1\n",
        "\n",
        "lower_bound = Q1 - 1.5 * IQR\n",
        "upper_bound = Q3 + 1.5 * IQR\n",
        "\n",
        "outliers = [x for x in data if x < lower_bound or x > upper_bound]\n",
        "\n",
        "print(\"Outliers:\", outliers)\n"
      ],
      "metadata": {
        "colab": {
          "base_uri": "https://localhost:8080/",
          "height": 469
        },
        "id": "N4-zp9Smba3t",
        "outputId": "a0196c3f-aa70-4bfb-8e02-692b597f2bd2"
      },
      "execution_count": 4,
      "outputs": [
        {
          "output_type": "display_data",
          "data": {
            "text/plain": [
              "<Figure size 640x480 with 1 Axes>"
            ],
            "image/png": "[encoded data removed]"
          },
          "metadata": {}
        },
        {
          "output_type": "stream",
          "name": "stdout",
          "text": [
            "Outliers: [35]\n"
          ]
        }
      ]
    },
    {
      "cell_type": "code",
      "source": [
        "'''\n",
        "8. You are working as a data analyst in an e-commerce company. The\n",
        "marketing team wants to know if there is a relationship between advertising spend and\n",
        "daily sales.\n",
        "● Explain how you would use covariance and correlation to explore this\n",
        "relationship.\n",
        "● Write Python code to compute the correlation between the two lists:\n",
        "advertising_spend = [200, 250, 300, 400, 500]\n",
        "daily_sales = [2200, 2450, 2750, 3200, 4000]\n",
        "'''\n",
        "\n",
        "#ans>\n",
        "'''\n",
        "Covariance shows the direction of the relationship between advertising spend and daily sales.\n",
        "→ If covariance is positive, higher ad spend tends to lead to higher sales.\n",
        "\n",
        "Correlation measures both strength and direction of the relationship.\n",
        "→ It ranges from -1 to 1:\n",
        "\n",
        "+1: strong positive relationship\n",
        "\n",
        "0: no relationship\n",
        "\n",
        "–1: strong negative relationship\n",
        "→ It is scale-independent, unlike covariance.\n",
        "\n",
        "These metrics help determine whether increasing ad spend is associated with higher daily sales.\n",
        "\n",
        "'''\n",
        "import numpy as np\n",
        "\n",
        "advertising_spend = [200, 250, 300, 400, 500]\n",
        "daily_sales = [2200, 2450, 2750, 3200, 4000]\n",
        "\n",
        "\n",
        "x = np.array(advertising_spend)\n",
        "y = np.array(daily_sales)\n",
        "\n",
        "\n",
        "cov_matrix = np.cov(x, y, ddof=0)\n",
        "covariance = cov_matrix[0, 1]\n",
        "\n",
        "\n",
        "correlation = np.corrcoef(x, y)[0, 1]\n",
        "\n",
        "\n",
        "print(\"Covariance:\", covariance)\n",
        "print(\"Correlation Coefficient:\", correlation)\n"
      ],
      "metadata": {
        "colab": {
          "base_uri": "https://localhost:8080/"
        },
        "id": "lMzukeUEbulg",
        "outputId": "e041dffb-0885-4c63-f252-66bbffafb338"
      },
      "execution_count": 5,
      "outputs": [
        {
          "output_type": "stream",
          "name": "stdout",
          "text": [
            "Covariance: 67900.0\n",
            "Correlation Coefficient: 0.9935824101653329\n"
          ]
        }
      ]
    },
    {
      "cell_type": "code",
      "source": [
        "'''\n",
        "9.Your team has collected customer satisfaction survey data on a scale of\n",
        "1-10 and wants to understand its distribution before launching a new product.\n",
        "● Explain which summary statistics and visualizations (e.g. mean, standard\n",
        "deviation, histogram) you’d use.\n",
        "● Write Python code to create a histogram using Matplotlib for the survey data:\n",
        "survey_scores = [7, 8, 5, 9, 6, 7, 8, 9, 10, 4, 7, 6, 9, 8, 7]\n",
        "'''\n",
        "#ans>\n",
        "'''\n",
        "Summary Statistics:\n",
        "Mean: average satisfaction level\n",
        "\n",
        "Median: central score\n",
        "\n",
        "Mode: most common score\n",
        "\n",
        "Standard Deviation: how spread out the scores are\n",
        "\n",
        "Min & Max: to know the range\n",
        "\n",
        " Visualizations:\n",
        "Histogram: shows frequency distribution of scores\n",
        "\n",
        "Boxplot (optional): identifies spread and potential outliers\n",
        "\n",
        "Bar chart of frequency (optional for discrete scores)\n",
        "'''\n",
        "import matplotlib.pyplot as plt\n",
        "\n",
        "\n",
        "survey_scores = [7, 8, 5, 9, 6, 7, 8, 9, 10, 4, 7, 6, 9, 8, 7]\n",
        "\n",
        "\n",
        "plt.hist(survey_scores, bins=range(1, 12), edgecolor='black', align='left')\n",
        "plt.title('Customer Satisfaction Survey Scores')\n",
        "plt.xlabel('Score (1-10)')\n",
        "plt.ylabel('Frequency')\n",
        "plt.xticks(range(1, 11))\n",
        "plt.grid(True, axis='y', linestyle='--', alpha=0.7)\n",
        "plt.show()\n"
      ],
      "metadata": {
        "colab": {
          "base_uri": "https://localhost:8080/",
          "height": 472
        },
        "id": "7COOtfn1cbo0",
        "outputId": "62e70487-5ac9-44f4-ba4f-a022e789fee8"
      },
      "execution_count": 6,
      "outputs": [
        {
          "output_type": "display_data",
          "data": {
            "text/plain": [
              "<Figure size 640x480 with 1 Axes>"
            ],
            "image/png": "[encoded data removed]"
          },
          "metadata": {}
        }
      ]
    },
    {
      "cell_type": "code",
      "source": [],
      "metadata": {
        "id": "_gubeOQ0c5b0"
      },
      "execution_count": null,
      "outputs": []
    }
  ]
}